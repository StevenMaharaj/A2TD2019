{
 "cells": [
  {
   "cell_type": "markdown",
   "metadata": {},
   "source": [
    "## One way ANVOA"
   ]
  },
  {
   "cell_type": "markdown",
   "metadata": {},
   "source": [
    "The one-way analysis of variance (ANOVA) is used to determine whether there are any statistically significant differences between the means of three or more independent groups.\n",
    "\n",
    "Thus one would want to test the following null hypothesis,\n",
    "\n",
    "$$H_0 : \\mu_1 = \\mu_2 = \\dots = \\mu_n$$\n",
    "\n",
    "where $u_i$ is the mean of group $i$. The alternative hypothesis is that at least one of the means is different. It is not that all of the means are different; a common mistake.\n",
    "\n",
    "\n",
    "Like all other tests ANVOA certain assumtions about the data. One requires;\n",
    "\n",
    "* The residuals that need to be normally distributed\n",
    "* Homogeneity of variances. In other words we have that the population variances in each   group are equal.\n",
    "* Independence of observations. This is a feature of expirimental design.\n"
   ]
  },
  {
   "cell_type": "markdown",
   "metadata": {},
   "source": [
    "## Mathematical formulation\n",
    "\n"
   ]
  },
  {
   "cell_type": "markdown",
   "metadata": {},
   "source": [
    "First will define our notation for the ANOVA calculation.\n",
    "\n",
    "* $k$ = the number of groups\n",
    "* $n_i$ = the sample size taken from group $i$\n",
    "* $x_{ij}$= the $j^{\\text{th}}$ sample from the $i^{\\text{th}}$ group\n",
    "* $\\bar{x}_i$ = the sample mean of group $i = \\frac{1}{n_{i}} \\sum_{j=1}^{n_{i}} x_{i j}$\n",
    "* $s_i$ = the sample mean of group $i = \\frac{1}{n_{i}-1} \\sum_{j=1}^{n_{i}}\\left(x_{i j}-\\overline{x}_{i}\\right)^{2}$\n",
    "* n = the total number of sample = $\\sum_{i=1}^{k} n_{i}$\n",
    "* $\\bar{x}$ = the mean of all samples $\\frac{1}{n} \\sum_{i j} x_{i j}$"
   ]
  },
  {
   "cell_type": "markdown",
   "metadata": {},
   "source": [
    "The total amount of variability among observations is calculated by summing the squares of the dfferences between  $x_{i j} \\text { and } \\overline{x}$. That the total sum of squares,\n",
    "\n",
    "$$\\text{SST} = \\sum_{i=1}^{k} \\sum_{j=1}^{n_{i}}\\left(x_{i j}-\\overline{x}\\right)^{2}$$.\n",
    "\n",
    "We can separate the variability into two distinct sources. \n",
    "The variability Variability between group means, specifically the variation around the overall mean.\n",
    "$$\\mathrm{SSG} :=\\sum_{i=1}^{k} n_{i}\\left(\\overline{x}_{i}-\\overline{x}\\right)^{2}$$\n",
    "\n"
   ]
  },
  {
   "cell_type": "markdown",
   "metadata": {},
   "source": [
    "The variability within groups, specifically variation of the observations about there group means $x_{i}$ \n",
    "\n",
    "$$\\mathrm{SSE} :=\\sum_{i=1}^{k} \\sum_{j=1}^{n_{i}}\\left(x_{i j}-\\overline{x}_{i}\\right)^{2}=\\sum_{i=1}^{k}\\left(n_{i}-1\\right) s_{i}^{2}$$"
   ]
  },
  {
   "cell_type": "code",
   "execution_count": null,
   "metadata": {},
   "outputs": [],
   "source": []
  },
  {
   "cell_type": "code",
   "execution_count": null,
   "metadata": {},
   "outputs": [],
   "source": []
  },
  {
   "cell_type": "code",
   "execution_count": 1,
   "metadata": {},
   "outputs": [],
   "source": [
    "df = read.csv('fruitfly.csv')"
   ]
  },
  {
   "cell_type": "code",
   "execution_count": 2,
   "metadata": {},
   "outputs": [
    {
     "data": {
      "text/html": [
       "<table>\n",
       "<thead><tr><th scope=col>fecundity</th><th scope=col>line</th></tr></thead>\n",
       "<tbody>\n",
       "\t<tr><td>12.8</td><td>R   </td></tr>\n",
       "\t<tr><td>21.6</td><td>R   </td></tr>\n",
       "\t<tr><td>14.8</td><td>R   </td></tr>\n",
       "\t<tr><td>23.1</td><td>R   </td></tr>\n",
       "\t<tr><td>34.6</td><td>R   </td></tr>\n",
       "\t<tr><td>19.7</td><td>R   </td></tr>\n",
       "</tbody>\n",
       "</table>\n"
      ],
      "text/latex": [
       "\\begin{tabular}{r|ll}\n",
       " fecundity & line\\\\\n",
       "\\hline\n",
       "\t 12.8 & R   \\\\\n",
       "\t 21.6 & R   \\\\\n",
       "\t 14.8 & R   \\\\\n",
       "\t 23.1 & R   \\\\\n",
       "\t 34.6 & R   \\\\\n",
       "\t 19.7 & R   \\\\\n",
       "\\end{tabular}\n"
      ],
      "text/markdown": [
       "\n",
       "fecundity | line | \n",
       "|---|---|---|---|---|---|\n",
       "| 12.8 | R    | \n",
       "| 21.6 | R    | \n",
       "| 14.8 | R    | \n",
       "| 23.1 | R    | \n",
       "| 34.6 | R    | \n",
       "| 19.7 | R    | \n",
       "\n",
       "\n"
      ],
      "text/plain": [
       "  fecundity line\n",
       "1 12.8      R   \n",
       "2 21.6      R   \n",
       "3 14.8      R   \n",
       "4 23.1      R   \n",
       "5 34.6      R   \n",
       "6 19.7      R   "
      ]
     },
     "metadata": {},
     "output_type": "display_data"
    }
   ],
   "source": [
    "head(df)"
   ]
  },
  {
   "cell_type": "code",
   "execution_count": 3,
   "metadata": {},
   "outputs": [],
   "source": [
    "mod <- aov(fecundity ~ line, data =df)"
   ]
  },
  {
   "cell_type": "code",
   "execution_count": 4,
   "metadata": {},
   "outputs": [
    {
     "data": {
      "text/plain": [
       "            Df Sum Sq Mean Sq F value   Pr(>F)    \n",
       "line         2   1362   681.1   8.666 0.000424 ***\n",
       "Residuals   72   5659    78.6                     \n",
       "---\n",
       "Signif. codes:  0 ‘***’ 0.001 ‘**’ 0.01 ‘*’ 0.05 ‘.’ 0.1 ‘ ’ 1"
      ]
     },
     "metadata": {},
     "output_type": "display_data"
    }
   ],
   "source": [
    "summary(mod)"
   ]
  },
  {
   "cell_type": "code",
   "execution_count": null,
   "metadata": {},
   "outputs": [],
   "source": []
  }
 ],
 "metadata": {
  "kernelspec": {
   "display_name": "R",
   "language": "R",
   "name": "ir"
  },
  "language_info": {
   "codemirror_mode": "r",
   "file_extension": ".r",
   "mimetype": "text/x-r-source",
   "name": "R",
   "pygments_lexer": "r",
   "version": "3.5.1"
  }
 },
 "nbformat": 4,
 "nbformat_minor": 2
}
